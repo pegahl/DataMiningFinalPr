{
  "nbformat": 4,
  "nbformat_minor": 0,
  "metadata": {
    "colab": {
      "provenance": [],
      "authorship_tag": "ABX9TyOrhBsHB8w5q6WP5KU82tjN",
      "include_colab_link": true
    },
    "kernelspec": {
      "name": "python3",
      "display_name": "Python 3"
    },
    "language_info": {
      "name": "python"
    }
  },
  "cells": [
    {
      "cell_type": "markdown",
      "metadata": {
        "id": "view-in-github",
        "colab_type": "text"
      },
      "source": [
        "<a href=\"https://colab.research.google.com/github/pegahl/DataMiningFinalPr/blob/main/Pr_Data_Cleaning_MHD.ipynb\" target=\"_parent\"><img src=\"https://colab.research.google.com/assets/colab-badge.svg\" alt=\"Open In Colab\"/></a>"
      ]
    },
    {
      "cell_type": "code",
      "execution_count": 98,
      "metadata": {
        "id": "kEgoxqpPu0T0"
      },
      "outputs": [],
      "source": [
        "import numpy as np\n",
        "import re\n",
        "import pandas as pd\n",
        "import matplotlib.pyplot as plt\n"
      ]
    },
    {
      "cell_type": "markdown",
      "source": [
        "## **Load Data **\n",
        "\n",
        "---\n",
        "We use MASHAD_study_for_merge dataset as the original dataset\n"
      ],
      "metadata": {
        "id": "Hlk4Z3fOZmj_"
      }
    },
    {
      "cell_type": "code",
      "source": [
        "df=pd.read_excel('/content/MASHAD study for merge.xlsx', index_col=0)\n",
        "\n",
        "df.head()"
      ],
      "metadata": {
        "colab": {
          "base_uri": "https://localhost:8080/",
          "height": 287
        },
        "id": "EbtH41OYLjTz",
        "outputId": "90654b30-f2be-42dc-ef07-4c635ee37f3d"
      },
      "execution_count": 75,
      "outputs": [
        {
          "output_type": "execute_result",
          "data": {
            "text/plain": [
              "         Total9704  syndromeMetabolic  Syndromecomponent0  Syndromecomponent1  \\\n",
              "File.No                                                                         \n",
              "1                1                2.0                 0.0                 0.0   \n",
              "2                1                1.0                 0.0                 0.0   \n",
              "3                1                2.0                 1.0                 0.0   \n",
              "4                1                1.0                 0.0                 0.0   \n",
              "5                1                2.0                 0.0                 0.0   \n",
              "\n",
              "         Syndromecomponent2  Syndromecomponent3  Syndromecomponent4  \\\n",
              "File.No                                                               \n",
              "1                       1.0                 0.0                 0.0   \n",
              "2                       0.0                 1.0                 0.0   \n",
              "3                       0.0                 0.0                 0.0   \n",
              "4                       0.0                 0.0                 0.0   \n",
              "5                       1.0                 0.0                 0.0   \n",
              "\n",
              "         Syndromecomponent5  Syndromecomponents  Waistcir  ...  \\\n",
              "File.No                                                    ...   \n",
              "1                         0                 2.0      87.0  ...   \n",
              "2                         0                 3.0      92.0  ...   \n",
              "3                         0                 0.0      84.0  ...   \n",
              "4                         0                 0.0      85.0  ...   \n",
              "5                         0                 2.0     100.0  ...   \n",
              "\n",
              "         year_brainendpoint  CVD_Status2  YearofCVDevent  CVDendpoint  \\\n",
              "File.No                                                                 \n",
              "1                       NaN          1.0             NaN          NaN   \n",
              "2                       NaN          NaN             NaN          NaN   \n",
              "3                       NaN          NaN             NaN          NaN   \n",
              "4                       NaN          1.0             NaN          NaN   \n",
              "5                       NaN          1.0             NaN          NaN   \n",
              "\n",
              "         Admission2.year  Admission2.month  Admission2.day  CVD2plusCVDdeath  \\\n",
              "File.No                                                                        \n",
              "1                 1398.0               4.0            17.0               1.0   \n",
              "2                    NaN               NaN             NaN               NaN   \n",
              "3                    NaN               NaN             NaN               NaN   \n",
              "4                 1398.0               4.0            24.0               1.0   \n",
              "5                 1398.0               2.0            17.0               1.0   \n",
              "\n",
              "         GFR_MDRD  GFR_CAT  \n",
              "File.No                     \n",
              "1             NaN      NaN  \n",
              "2             NaN      NaN  \n",
              "3             NaN      NaN  \n",
              "4             NaN      NaN  \n",
              "5             NaN      NaN  \n",
              "\n",
              "[5 rows x 778 columns]"
            ],
            "text/html": [
              "\n",
              "  <div id=\"df-db29e5fb-cbd0-4e3a-b6d5-b1fc4062eef1\" class=\"colab-df-container\">\n",
              "    <div>\n",
              "<style scoped>\n",
              "    .dataframe tbody tr th:only-of-type {\n",
              "        vertical-align: middle;\n",
              "    }\n",
              "\n",
              "    .dataframe tbody tr th {\n",
              "        vertical-align: top;\n",
              "    }\n",
              "\n",
              "    .dataframe thead th {\n",
              "        text-align: right;\n",
              "    }\n",
              "</style>\n",
              "<table border=\"1\" class=\"dataframe\">\n",
              "  <thead>\n",
              "    <tr style=\"text-align: right;\">\n",
              "      <th></th>\n",
              "      <th>Total9704</th>\n",
              "      <th>syndromeMetabolic</th>\n",
              "      <th>Syndromecomponent0</th>\n",
              "      <th>Syndromecomponent1</th>\n",
              "      <th>Syndromecomponent2</th>\n",
              "      <th>Syndromecomponent3</th>\n",
              "      <th>Syndromecomponent4</th>\n",
              "      <th>Syndromecomponent5</th>\n",
              "      <th>Syndromecomponents</th>\n",
              "      <th>Waistcir</th>\n",
              "      <th>...</th>\n",
              "      <th>year_brainendpoint</th>\n",
              "      <th>CVD_Status2</th>\n",
              "      <th>YearofCVDevent</th>\n",
              "      <th>CVDendpoint</th>\n",
              "      <th>Admission2.year</th>\n",
              "      <th>Admission2.month</th>\n",
              "      <th>Admission2.day</th>\n",
              "      <th>CVD2plusCVDdeath</th>\n",
              "      <th>GFR_MDRD</th>\n",
              "      <th>GFR_CAT</th>\n",
              "    </tr>\n",
              "    <tr>\n",
              "      <th>File.No</th>\n",
              "      <th></th>\n",
              "      <th></th>\n",
              "      <th></th>\n",
              "      <th></th>\n",
              "      <th></th>\n",
              "      <th></th>\n",
              "      <th></th>\n",
              "      <th></th>\n",
              "      <th></th>\n",
              "      <th></th>\n",
              "      <th></th>\n",
              "      <th></th>\n",
              "      <th></th>\n",
              "      <th></th>\n",
              "      <th></th>\n",
              "      <th></th>\n",
              "      <th></th>\n",
              "      <th></th>\n",
              "      <th></th>\n",
              "      <th></th>\n",
              "      <th></th>\n",
              "    </tr>\n",
              "  </thead>\n",
              "  <tbody>\n",
              "    <tr>\n",
              "      <th>1</th>\n",
              "      <td>1</td>\n",
              "      <td>2.0</td>\n",
              "      <td>0.0</td>\n",
              "      <td>0.0</td>\n",
              "      <td>1.0</td>\n",
              "      <td>0.0</td>\n",
              "      <td>0.0</td>\n",
              "      <td>0</td>\n",
              "      <td>2.0</td>\n",
              "      <td>87.0</td>\n",
              "      <td>...</td>\n",
              "      <td>NaN</td>\n",
              "      <td>1.0</td>\n",
              "      <td>NaN</td>\n",
              "      <td>NaN</td>\n",
              "      <td>1398.0</td>\n",
              "      <td>4.0</td>\n",
              "      <td>17.0</td>\n",
              "      <td>1.0</td>\n",
              "      <td>NaN</td>\n",
              "      <td>NaN</td>\n",
              "    </tr>\n",
              "    <tr>\n",
              "      <th>2</th>\n",
              "      <td>1</td>\n",
              "      <td>1.0</td>\n",
              "      <td>0.0</td>\n",
              "      <td>0.0</td>\n",
              "      <td>0.0</td>\n",
              "      <td>1.0</td>\n",
              "      <td>0.0</td>\n",
              "      <td>0</td>\n",
              "      <td>3.0</td>\n",
              "      <td>92.0</td>\n",
              "      <td>...</td>\n",
              "      <td>NaN</td>\n",
              "      <td>NaN</td>\n",
              "      <td>NaN</td>\n",
              "      <td>NaN</td>\n",
              "      <td>NaN</td>\n",
              "      <td>NaN</td>\n",
              "      <td>NaN</td>\n",
              "      <td>NaN</td>\n",
              "      <td>NaN</td>\n",
              "      <td>NaN</td>\n",
              "    </tr>\n",
              "    <tr>\n",
              "      <th>3</th>\n",
              "      <td>1</td>\n",
              "      <td>2.0</td>\n",
              "      <td>1.0</td>\n",
              "      <td>0.0</td>\n",
              "      <td>0.0</td>\n",
              "      <td>0.0</td>\n",
              "      <td>0.0</td>\n",
              "      <td>0</td>\n",
              "      <td>0.0</td>\n",
              "      <td>84.0</td>\n",
              "      <td>...</td>\n",
              "      <td>NaN</td>\n",
              "      <td>NaN</td>\n",
              "      <td>NaN</td>\n",
              "      <td>NaN</td>\n",
              "      <td>NaN</td>\n",
              "      <td>NaN</td>\n",
              "      <td>NaN</td>\n",
              "      <td>NaN</td>\n",
              "      <td>NaN</td>\n",
              "      <td>NaN</td>\n",
              "    </tr>\n",
              "    <tr>\n",
              "      <th>4</th>\n",
              "      <td>1</td>\n",
              "      <td>1.0</td>\n",
              "      <td>0.0</td>\n",
              "      <td>0.0</td>\n",
              "      <td>0.0</td>\n",
              "      <td>0.0</td>\n",
              "      <td>0.0</td>\n",
              "      <td>0</td>\n",
              "      <td>0.0</td>\n",
              "      <td>85.0</td>\n",
              "      <td>...</td>\n",
              "      <td>NaN</td>\n",
              "      <td>1.0</td>\n",
              "      <td>NaN</td>\n",
              "      <td>NaN</td>\n",
              "      <td>1398.0</td>\n",
              "      <td>4.0</td>\n",
              "      <td>24.0</td>\n",
              "      <td>1.0</td>\n",
              "      <td>NaN</td>\n",
              "      <td>NaN</td>\n",
              "    </tr>\n",
              "    <tr>\n",
              "      <th>5</th>\n",
              "      <td>1</td>\n",
              "      <td>2.0</td>\n",
              "      <td>0.0</td>\n",
              "      <td>0.0</td>\n",
              "      <td>1.0</td>\n",
              "      <td>0.0</td>\n",
              "      <td>0.0</td>\n",
              "      <td>0</td>\n",
              "      <td>2.0</td>\n",
              "      <td>100.0</td>\n",
              "      <td>...</td>\n",
              "      <td>NaN</td>\n",
              "      <td>1.0</td>\n",
              "      <td>NaN</td>\n",
              "      <td>NaN</td>\n",
              "      <td>1398.0</td>\n",
              "      <td>2.0</td>\n",
              "      <td>17.0</td>\n",
              "      <td>1.0</td>\n",
              "      <td>NaN</td>\n",
              "      <td>NaN</td>\n",
              "    </tr>\n",
              "  </tbody>\n",
              "</table>\n",
              "<p>5 rows × 778 columns</p>\n",
              "</div>\n",
              "    <div class=\"colab-df-buttons\">\n",
              "\n",
              "  <div class=\"colab-df-container\">\n",
              "    <button class=\"colab-df-convert\" onclick=\"convertToInteractive('df-db29e5fb-cbd0-4e3a-b6d5-b1fc4062eef1')\"\n",
              "            title=\"Convert this dataframe to an interactive table.\"\n",
              "            style=\"display:none;\">\n",
              "\n",
              "  <svg xmlns=\"http://www.w3.org/2000/svg\" height=\"24px\" viewBox=\"0 -960 960 960\">\n",
              "    <path d=\"M120-120v-720h720v720H120Zm60-500h600v-160H180v160Zm220 220h160v-160H400v160Zm0 220h160v-160H400v160ZM180-400h160v-160H180v160Zm440 0h160v-160H620v160ZM180-180h160v-160H180v160Zm440 0h160v-160H620v160Z\"/>\n",
              "  </svg>\n",
              "    </button>\n",
              "\n",
              "  <style>\n",
              "    .colab-df-container {\n",
              "      display:flex;\n",
              "      gap: 12px;\n",
              "    }\n",
              "\n",
              "    .colab-df-convert {\n",
              "      background-color: #E8F0FE;\n",
              "      border: none;\n",
              "      border-radius: 50%;\n",
              "      cursor: pointer;\n",
              "      display: none;\n",
              "      fill: #1967D2;\n",
              "      height: 32px;\n",
              "      padding: 0 0 0 0;\n",
              "      width: 32px;\n",
              "    }\n",
              "\n",
              "    .colab-df-convert:hover {\n",
              "      background-color: #E2EBFA;\n",
              "      box-shadow: 0px 1px 2px rgba(60, 64, 67, 0.3), 0px 1px 3px 1px rgba(60, 64, 67, 0.15);\n",
              "      fill: #174EA6;\n",
              "    }\n",
              "\n",
              "    .colab-df-buttons div {\n",
              "      margin-bottom: 4px;\n",
              "    }\n",
              "\n",
              "    [theme=dark] .colab-df-convert {\n",
              "      background-color: #3B4455;\n",
              "      fill: #D2E3FC;\n",
              "    }\n",
              "\n",
              "    [theme=dark] .colab-df-convert:hover {\n",
              "      background-color: #434B5C;\n",
              "      box-shadow: 0px 1px 3px 1px rgba(0, 0, 0, 0.15);\n",
              "      filter: drop-shadow(0px 1px 2px rgba(0, 0, 0, 0.3));\n",
              "      fill: #FFFFFF;\n",
              "    }\n",
              "  </style>\n",
              "\n",
              "    <script>\n",
              "      const buttonEl =\n",
              "        document.querySelector('#df-db29e5fb-cbd0-4e3a-b6d5-b1fc4062eef1 button.colab-df-convert');\n",
              "      buttonEl.style.display =\n",
              "        google.colab.kernel.accessAllowed ? 'block' : 'none';\n",
              "\n",
              "      async function convertToInteractive(key) {\n",
              "        const element = document.querySelector('#df-db29e5fb-cbd0-4e3a-b6d5-b1fc4062eef1');\n",
              "        const dataTable =\n",
              "          await google.colab.kernel.invokeFunction('convertToInteractive',\n",
              "                                                    [key], {});\n",
              "        if (!dataTable) return;\n",
              "\n",
              "        const docLinkHtml = 'Like what you see? Visit the ' +\n",
              "          '<a target=\"_blank\" href=https://colab.research.google.com/notebooks/data_table.ipynb>data table notebook</a>'\n",
              "          + ' to learn more about interactive tables.';\n",
              "        element.innerHTML = '';\n",
              "        dataTable['output_type'] = 'display_data';\n",
              "        await google.colab.output.renderOutput(dataTable, element);\n",
              "        const docLink = document.createElement('div');\n",
              "        docLink.innerHTML = docLinkHtml;\n",
              "        element.appendChild(docLink);\n",
              "      }\n",
              "    </script>\n",
              "  </div>\n",
              "\n",
              "\n",
              "<div id=\"df-f738faa3-18bf-4333-a58f-92f324d37cfb\">\n",
              "  <button class=\"colab-df-quickchart\" onclick=\"quickchart('df-f738faa3-18bf-4333-a58f-92f324d37cfb')\"\n",
              "            title=\"Suggest charts\"\n",
              "            style=\"display:none;\">\n",
              "\n",
              "<svg xmlns=\"http://www.w3.org/2000/svg\" height=\"24px\"viewBox=\"0 0 24 24\"\n",
              "     width=\"24px\">\n",
              "    <g>\n",
              "        <path d=\"M19 3H5c-1.1 0-2 .9-2 2v14c0 1.1.9 2 2 2h14c1.1 0 2-.9 2-2V5c0-1.1-.9-2-2-2zM9 17H7v-7h2v7zm4 0h-2V7h2v10zm4 0h-2v-4h2v4z\"/>\n",
              "    </g>\n",
              "</svg>\n",
              "  </button>\n",
              "\n",
              "<style>\n",
              "  .colab-df-quickchart {\n",
              "      --bg-color: #E8F0FE;\n",
              "      --fill-color: #1967D2;\n",
              "      --hover-bg-color: #E2EBFA;\n",
              "      --hover-fill-color: #174EA6;\n",
              "      --disabled-fill-color: #AAA;\n",
              "      --disabled-bg-color: #DDD;\n",
              "  }\n",
              "\n",
              "  [theme=dark] .colab-df-quickchart {\n",
              "      --bg-color: #3B4455;\n",
              "      --fill-color: #D2E3FC;\n",
              "      --hover-bg-color: #434B5C;\n",
              "      --hover-fill-color: #FFFFFF;\n",
              "      --disabled-bg-color: #3B4455;\n",
              "      --disabled-fill-color: #666;\n",
              "  }\n",
              "\n",
              "  .colab-df-quickchart {\n",
              "    background-color: var(--bg-color);\n",
              "    border: none;\n",
              "    border-radius: 50%;\n",
              "    cursor: pointer;\n",
              "    display: none;\n",
              "    fill: var(--fill-color);\n",
              "    height: 32px;\n",
              "    padding: 0;\n",
              "    width: 32px;\n",
              "  }\n",
              "\n",
              "  .colab-df-quickchart:hover {\n",
              "    background-color: var(--hover-bg-color);\n",
              "    box-shadow: 0 1px 2px rgba(60, 64, 67, 0.3), 0 1px 3px 1px rgba(60, 64, 67, 0.15);\n",
              "    fill: var(--button-hover-fill-color);\n",
              "  }\n",
              "\n",
              "  .colab-df-quickchart-complete:disabled,\n",
              "  .colab-df-quickchart-complete:disabled:hover {\n",
              "    background-color: var(--disabled-bg-color);\n",
              "    fill: var(--disabled-fill-color);\n",
              "    box-shadow: none;\n",
              "  }\n",
              "\n",
              "  .colab-df-spinner {\n",
              "    border: 2px solid var(--fill-color);\n",
              "    border-color: transparent;\n",
              "    border-bottom-color: var(--fill-color);\n",
              "    animation:\n",
              "      spin 1s steps(1) infinite;\n",
              "  }\n",
              "\n",
              "  @keyframes spin {\n",
              "    0% {\n",
              "      border-color: transparent;\n",
              "      border-bottom-color: var(--fill-color);\n",
              "      border-left-color: var(--fill-color);\n",
              "    }\n",
              "    20% {\n",
              "      border-color: transparent;\n",
              "      border-left-color: var(--fill-color);\n",
              "      border-top-color: var(--fill-color);\n",
              "    }\n",
              "    30% {\n",
              "      border-color: transparent;\n",
              "      border-left-color: var(--fill-color);\n",
              "      border-top-color: var(--fill-color);\n",
              "      border-right-color: var(--fill-color);\n",
              "    }\n",
              "    40% {\n",
              "      border-color: transparent;\n",
              "      border-right-color: var(--fill-color);\n",
              "      border-top-color: var(--fill-color);\n",
              "    }\n",
              "    60% {\n",
              "      border-color: transparent;\n",
              "      border-right-color: var(--fill-color);\n",
              "    }\n",
              "    80% {\n",
              "      border-color: transparent;\n",
              "      border-right-color: var(--fill-color);\n",
              "      border-bottom-color: var(--fill-color);\n",
              "    }\n",
              "    90% {\n",
              "      border-color: transparent;\n",
              "      border-bottom-color: var(--fill-color);\n",
              "    }\n",
              "  }\n",
              "</style>\n",
              "\n",
              "  <script>\n",
              "    async function quickchart(key) {\n",
              "      const quickchartButtonEl =\n",
              "        document.querySelector('#' + key + ' button');\n",
              "      quickchartButtonEl.disabled = true;  // To prevent multiple clicks.\n",
              "      quickchartButtonEl.classList.add('colab-df-spinner');\n",
              "      try {\n",
              "        const charts = await google.colab.kernel.invokeFunction(\n",
              "            'suggestCharts', [key], {});\n",
              "      } catch (error) {\n",
              "        console.error('Error during call to suggestCharts:', error);\n",
              "      }\n",
              "      quickchartButtonEl.classList.remove('colab-df-spinner');\n",
              "      quickchartButtonEl.classList.add('colab-df-quickchart-complete');\n",
              "    }\n",
              "    (() => {\n",
              "      let quickchartButtonEl =\n",
              "        document.querySelector('#df-f738faa3-18bf-4333-a58f-92f324d37cfb button');\n",
              "      quickchartButtonEl.style.display =\n",
              "        google.colab.kernel.accessAllowed ? 'block' : 'none';\n",
              "    })();\n",
              "  </script>\n",
              "</div>\n",
              "    </div>\n",
              "  </div>\n"
            ],
            "application/vnd.google.colaboratory.intrinsic+json": {
              "type": "dataframe",
              "variable_name": "df"
            }
          },
          "metadata": {},
          "execution_count": 75
        }
      ]
    },
    {
      "cell_type": "code",
      "source": [
        "df.columns.shape\n"
      ],
      "metadata": {
        "colab": {
          "base_uri": "https://localhost:8080/"
        },
        "id": "45Oab40aal4t",
        "outputId": "21d12779-610c-4a1c-91fb-7fa62ae2e874"
      },
      "execution_count": 76,
      "outputs": [
        {
          "output_type": "execute_result",
          "data": {
            "text/plain": [
              "(778,)"
            ]
          },
          "metadata": {},
          "execution_count": 76
        }
      ]
    },
    {
      "cell_type": "code",
      "source": [
        "df['syndromeMetabolic'].unique()"
      ],
      "metadata": {
        "id": "mZG7akWB9XLx",
        "colab": {
          "base_uri": "https://localhost:8080/"
        },
        "outputId": "f48a9e3f-363f-4524-be04-89aae868a662"
      },
      "execution_count": 77,
      "outputs": [
        {
          "output_type": "execute_result",
          "data": {
            "text/plain": [
              "array([ 2.,  1., nan])"
            ]
          },
          "metadata": {},
          "execution_count": 77
        }
      ]
    },
    {
      "cell_type": "markdown",
      "source": [
        "**Create a new csv file for selected featuers**"
      ],
      "metadata": {
        "id": "Aq0-ZUVbu8jb"
      }
    },
    {
      "cell_type": "code",
      "source": [
        "csv_file = \"MASHAD study for merge-Origin - fnames.csv\"\n",
        "df_column_names = pd.read_csv(csv_file)\n",
        "\n",
        "# Extract the selected column names from the DataFrame\n",
        "print(df_column_names)\n",
        "selected_columns = df_column_names['syndromeMetabolic'].tolist()\n",
        "print(selected_columns)"
      ],
      "metadata": {
        "colab": {
          "base_uri": "https://localhost:8080/"
        },
        "id": "LSitodc7u7x3",
        "outputId": "28965725-8bd3-4f8f-d24c-56b6ae507e8e"
      },
      "execution_count": 82,
      "outputs": [
        {
          "output_type": "stream",
          "name": "stdout",
          "text": [
            "      syndromeMetabolic\n",
            "0    Syndromecomponent0\n",
            "1    Syndromecomponent1\n",
            "2    Syndromecomponent2\n",
            "3    Syndromecomponent3\n",
            "4    Syndromecomponent4\n",
            "..                  ...\n",
            "339  year_brainendpoint\n",
            "340      YearofCVDevent\n",
            "341         CVDendpoint\n",
            "342            GFR_MDRD\n",
            "343             GFR_CAT\n",
            "\n",
            "[344 rows x 1 columns]\n",
            "['Syndromecomponent0', 'Syndromecomponent1', 'Syndromecomponent2', 'Syndromecomponent3', 'Syndromecomponent4', 'Syndromecomponent5', 'Syndromecomponents', 'Waistcir', 'TGCHOL', 'Sex', 'BPS', 'BPD', 'Glocuse', 'LdL', 'Cholesterol', 'HDL', 'TRIGLYCERIDES', 'Dyslipidemia', 'Diabete', 'HSCRP', 'NIGHTLYS', 'age_1', 'B_Smoking', 'edulevel', 'Jobstatu', 'MemberCountH', 'Height', 'Weight', 'AnxietyScore', 'DepressionScore', 'Name', 'Family', 'FatherName', 'Age', 'Nationality', 'TelHome', 'TelWork', 'Mobile', 'Address1', 'NAMEH', 'FamilyH', 'SexH', 'TelH', 'JobStatusH', 'JobLastH', 'SalaryH', 'EduLevelH', 'DegreeLastH', 'FamilCountH', 'LifePlaceH', 'UnitCountH', 'HaveCarH', 'Status_i', 'Degreela', 'joblast', 'Marriage', 'A_Smoked', 'smokingstutus', 'B1', 'B2', 'B3', 'B4', 'D_CIGNAME', 'C_SmokingTime', 'E_CigCount', 'E1_SmokedTime', 'F_CigLeaveReason', 'F1_CigLeaveTime', 'ABLETOWALK', 'VERYACT_W', 'ACTIVE_W', 'INACTIVE_W', 'VERYACT_Out', 'ACTIVE_Out', 'INACTIVE_Out', 'STUDYINB', 'DAILYNAP', 'HAVE_DYS', 'COUNT_DY', 'COUNT_1', 'HAVE_ACT_Ch', 'HOWLONG_', 'STAYINBE', 'STAYIN1', 'IA1', 'IA2', 'IA3', 'IA4', 'IB1', 'IB2', 'IB3', 'IB4', 'PREDISEASE', 'J1', 'J2', 'J3', 'J4', 'J5', 'J1D', 'J2D', 'J3D', 'J4D', 'J5D', 'J6_PDISE', 'J7', 'J8', 'J9', 'J10', 'K', 'K2_USUAL', 'L1', 'L2', 'L3', 'L4', 'L5', 'L6', 'L6_OtherMethod', 'L7', 'L8', 'L9', 'L10', 'L11a', 'L11b', 'L11c', 'L12', 'L13_JDeadCount', 'L14', 'L15', 'L16', 'L17', 'V1', 'V2', 'V3', 'V4', 'V5', 'V6', 'V7', 'V8', 'V9_Desc', 'IJ1', 'IJ2', 'IJ3', 'IJ4', 'IJ5', 'IJ6', 'IJ7', 'IJ8', 'IJ9', 'Height3', 'Weight3', 'BMI', 'BMIC', 'Demispan', 'Demispan2', 'Demispan3', 'Demispan4', 'WaistCir2', 'WaistCir3', 'WaistCir4', 'Hipcir', 'Waisthight', 'Waisthip', 'HipCir2', 'HipCir3', 'HipCir4', 'Midarmcir', 'MidArmCir2', 'MidArmCir3', 'BloodP1_S1', 'BloodP1_D1', 'BloodP1_S2', 'BloodP1_D2', 'BloodP1_S3', 'BloodP1_D3', 'BPSC', 'BPDC', 'BPD1', 'BPS1', 'HTN', 'HTN2', 'BloodP1_NCount', 'RFoodP_S', 'RFoodP_D', 'DepressionResult1', 'DepressionResult2', 'DepressionType', 'DepressionBoresh', 'ReftoDoctor', 'ReftoDoctorDate', 'DoctorName', 'RefertoDoctor', 'RefertoDrResult', 'NoRefertoDrCause', 'VisitType', 'VisitDate', 'CallCount', 'VascularProblems', 'SakteCount', 'MedicineChangeDesc', 'SuffertoDisease', 'NeedToHospital', 'NeedToHospitalDate', 'Signs', 'CurativeActions', 'CurativeDoctorName', 'PrescribedMedicines', 'HospitalName', 'SpecialDiseaseName', 'CompleteStudy', 'NoCompleteCause', 'NoCompleteOCause', 'LastVisitDate', 'Nobat1', 'DeadDisease', 'DeadCause', 'DeadTime', 'HospitalName1', 'DoctorName1', 'Uricacid', 'TGC', 'Mode', 'WBC', 'RBC', 'HGB', 'Anemi', 'HCT', 'MCV', 'MCH', 'MCHCat', 'MCHC', 'Anemia', 'Anemiagroup', 'PLT', 'LYM_P', 'MXD_P', 'NEUT_P', 'RDW', 'undiagnosedHTN', 'UricacidC', 'PDW', 'MPV', 'P_LCR', 'edible', 'water.g', 'Tot.N2g', 'protein.g', 'fat.g', 'cho.g', 'energy.kcal', 'energy.kj', 'starch.mg', 'Tot.sug.mg', 'NMES.g', 'glucose.g', 'fructose.g', 'sucrose.g', 'maltose.mg', 'lactose.mg', 'NSP.g', 'fiber.g', 'satfat.g', 'monoufat.g', 'polyufat.g', 'transfat.g', 'chlostrol.mg', 'sodium.mg', 'potassium.g', 'calcium.g', 'magnesium.mg', 'phosphor.mg', 'iron.mg', 'cooper.mg', 'zinc.mg', 'chloride.mg', 'manganese.mg', 'selenium.mg', 'iodine', 'retinol', 'carotene', 'vit.D', 'vit.E', 'thiamin.mg', 'riboflavin.mg', 'niacin.mg', 'trypt.60', 'vitB6.mg', 'vit.B12', 'folate', 'pantothene', 'biotin', 'vit.C.mg', 'wateradj', 'proteinadj', 'choadj', 'cholorideadj', 'fatadj', 'PAR1', 'PAR2', 'PAR3', 'PAR4', 'PAR5', 'PAR6', 'PAR7', 'TEE', 'Triglyceridehdl', 'creatinin', 'BIL.T2', 'AST2', 'ALT2', 'TIBC', 'FERRITIN', 'ANTI_HSP', 'SyndromeC', 'PAB', 'GlucoseCATP', 'HscrpC', 'rh', 'AnemiaIron', 'BPC', 'undiagnoseddiabetes', 'AnemiaHGB', 'CVD_phase1', 'QRSDuration', 'QTMin', 'QTMax', 'HR', 'CVD_family_history', 'Death_year', 'Death_month', 'Death_day', 'DeathCause.Total', 'DeathCause.Detailed', 'FIRSTadmission.year', 'FIRSTadmission.month', 'FIRSTadmission.day', 'Heart_Status2', 'Heartendpoint_c', 'Brain_Status2', 'BrainEndpoint_c', 'year_brainendpoint', 'YearofCVDevent', 'CVDendpoint', 'GFR_MDRD', 'GFR_CAT']\n"
          ]
        }
      ]
    },
    {
      "cell_type": "code",
      "source": [
        "df_selected = df[selected_columns]\n",
        "output_csv_file = \"selected_columns.csv\"\n",
        "df_selected.to_csv(output_csv_file, index=False)\n",
        "print(\"Selected columns saved to\", output_csv_file)\n"
      ],
      "metadata": {
        "colab": {
          "base_uri": "https://localhost:8080/"
        },
        "id": "qbItRu7dvzuq",
        "outputId": "9f5aba8c-83a1-405b-d42d-99e84a2a36a4"
      },
      "execution_count": 83,
      "outputs": [
        {
          "output_type": "stream",
          "name": "stdout",
          "text": [
            "Selected columns saved to selected_columns.csv\n"
          ]
        }
      ]
    },
    {
      "cell_type": "code",
      "source": [
        "selected_df=pd.read_csv('/content/selected_columns.csv', index_col=0)\n",
        "row_number=selected_df.shape[0]\n",
        "print(\"row number=\"+str(row_number))\n",
        "print(\"column number=\"+str(selected_df.shape[1]))"
      ],
      "metadata": {
        "colab": {
          "base_uri": "https://localhost:8080/"
        },
        "id": "QNwbQh-HwZMH",
        "outputId": "ab9707ad-a8d0-4fcf-e7c1-caa6f7647124"
      },
      "execution_count": 84,
      "outputs": [
        {
          "output_type": "stream",
          "name": "stdout",
          "text": [
            "row number=500\n",
            "column number=343\n"
          ]
        }
      ]
    },
    {
      "cell_type": "markdown",
      "source": [
        "## Missing Vlaues"
      ],
      "metadata": {
        "id": "7_50d8ci1P3i"
      }
    },
    {
      "cell_type": "code",
      "source": [
        "# Detect missing values\n",
        "missing_values = selected_df.isnull().sum()\n",
        "\n",
        "print(\"Missing values in each column:\")\n",
        "print(missing_values)"
      ],
      "metadata": {
        "colab": {
          "base_uri": "https://localhost:8080/"
        },
        "id": "Y_9O5Pb5oaMr",
        "outputId": "45bacad6-9fec-469e-d088-26cd820dc40f"
      },
      "execution_count": 85,
      "outputs": [
        {
          "output_type": "stream",
          "name": "stdout",
          "text": [
            "Missing values in each column:\n",
            "Syndromecomponent1      2\n",
            "Syndromecomponent2      6\n",
            "Syndromecomponent3      4\n",
            "Syndromecomponent4      4\n",
            "Syndromecomponent5      0\n",
            "                     ... \n",
            "year_brainendpoint    491\n",
            "YearofCVDevent        441\n",
            "CVDendpoint           438\n",
            "GFR_MDRD              175\n",
            "GFR_CAT               175\n",
            "Length: 343, dtype: int64\n"
          ]
        }
      ]
    },
    {
      "cell_type": "code",
      "source": [
        "columns_without_missing_values = []\n",
        "columns_with_missing_values = []\n",
        "# Iterate over the missing_values Series\n",
        "for column, missing_count in missing_values.items():\n",
        "    if missing_count == row_number:  # If there are no missing values in the column\n",
        "        columns_with_missing_values.append(column)\n",
        "    elif missing_count==0:\n",
        "          columns_without_missing_values.append(column)\n",
        "\n",
        "print(\"Columns without missing values:\", columns_without_missing_values)\n",
        "print(\"Columns with missing values:\", columns_with_missing_values)\n",
        "print(len(columns_with_missing_values))\n",
        "print(len(columns_without_missing_values))"
      ],
      "metadata": {
        "colab": {
          "base_uri": "https://localhost:8080/"
        },
        "id": "7vpEorIr2qOr",
        "outputId": "e7805c80-0e64-4c0d-b548-d4baa7b2b0ce"
      },
      "execution_count": 86,
      "outputs": [
        {
          "output_type": "stream",
          "name": "stdout",
          "text": [
            "Columns without missing values: ['Syndromecomponent5', 'Waistcir', 'Sex', 'NIGHTLYS', 'B_Smoking', 'Jobstatu', 'Weight', 'AnxietyScore', 'Name', 'Family', 'Nationality', 'Address1', 'NAMEH', 'FamilyH', 'SexH', 'JobStatusH', 'JobLastH', 'DegreeLastH', 'FamilCountH', 'LifePlaceH', 'HaveCarH', 'Marriage', 'A_Smoked', 'smokingstutus', 'VERYACT_W', 'ACTIVE_W', 'INACTIVE_W', 'VERYACT_Out', 'ACTIVE_Out', 'INACTIVE_Out', 'STUDYINB', 'DAILYNAP', 'HAVE_DYS', 'COUNT_DY', 'COUNT_1', 'HAVE_ACT_Ch', 'HOWLONG_', 'STAYINBE', 'STAYIN1', 'IA1', 'IA2', 'IA3', 'IA4', 'IB1', 'IB2', 'IB3', 'IB4', 'J1', 'J2', 'J3', 'J4', 'J7', 'J9', 'J10', 'K', 'V1', 'V2', 'V3', 'V4', 'V5', 'V6', 'V7', 'V8', 'IJ1', 'IJ2', 'IJ3', 'IJ4', 'IJ5', 'IJ6', 'IJ7', 'IJ8', 'IJ9', 'BMIC', 'Hipcir', 'Waisthip', 'Midarmcir', 'BPD1', 'BPS1', 'Anemia', 'Anemiagroup', 'PAR1', 'PAR2', 'PAR3', 'PAR4', 'PAR5', 'PAR6', 'PAR7', 'TEE', 'SyndromeC', 'AnemiaIron', 'BPC', 'AnemiaHGB', 'CVD_phase1', 'FIRSTadmission.year', 'FIRSTadmission.month', 'FIRSTadmission.day']\n",
            "Columns with missing values: ['EduLevelH', 'V9_Desc', 'Height3', 'Weight3', 'RFoodP_S', 'RFoodP_D', 'NoCompleteOCause', 'DoctorName1', 'Mode', 'edible', 'water.g', 'Tot.N2g', 'protein.g', 'fat.g', 'cho.g', 'energy.kcal', 'energy.kj', 'starch.mg', 'Tot.sug.mg', 'NMES.g', 'glucose.g', 'fructose.g', 'sucrose.g', 'maltose.mg', 'lactose.mg', 'NSP.g', 'fiber.g', 'satfat.g', 'monoufat.g', 'polyufat.g', 'transfat.g', 'chlostrol.mg', 'sodium.mg', 'potassium.g', 'calcium.g', 'magnesium.mg', 'phosphor.mg', 'iron.mg', 'cooper.mg', 'zinc.mg', 'chloride.mg', 'manganese.mg', 'selenium.mg', 'iodine', 'retinol', 'carotene', 'vit.D', 'vit.E', 'thiamin.mg', 'riboflavin.mg', 'niacin.mg', 'trypt.60', 'vitB6.mg', 'vit.B12', 'folate', 'pantothene', 'biotin', 'vit.C.mg', 'wateradj', 'proteinadj', 'choadj', 'cholorideadj', 'fatadj', 'rh']\n",
            "64\n",
            "96\n"
          ]
        }
      ]
    },
    {
      "cell_type": "code",
      "source": [
        "columns_to_check = ['EduLevelH']  # Replace with your desired column names\n",
        "\n",
        "# Detect missing values only for the specified columns\n",
        "missing_values = df[columns_to_check].isnull().sum()\n",
        "\n",
        "print(\"Missing values in each specified column:\")\n",
        "print(missing_values)"
      ],
      "metadata": {
        "colab": {
          "base_uri": "https://localhost:8080/"
        },
        "id": "UDSSV4rp1-At",
        "outputId": "de31e5d0-1157-4b2d-87bd-58b1d22aad65"
      },
      "execution_count": 87,
      "outputs": [
        {
          "output_type": "stream",
          "name": "stdout",
          "text": [
            "Missing values in each specified column:\n",
            "EduLevelH    500\n",
            "dtype: int64\n"
          ]
        }
      ]
    },
    {
      "cell_type": "code",
      "source": [
        "selected_df.drop(columns=columns_with_missing_values, inplace=True)\n",
        "selected_df.shape\n",
        "\n"
      ],
      "metadata": {
        "colab": {
          "base_uri": "https://localhost:8080/"
        },
        "id": "5jhmhzvR5skE",
        "outputId": "da608abb-519e-4d4a-f378-6d2a7f220429"
      },
      "execution_count": 88,
      "outputs": [
        {
          "output_type": "execute_result",
          "data": {
            "text/plain": [
              "(500, 279)"
            ]
          },
          "metadata": {},
          "execution_count": 88
        }
      ]
    },
    {
      "cell_type": "markdown",
      "source": [
        "## Check for duplicated featuers"
      ],
      "metadata": {
        "id": "jh1dt2LK-OqY"
      }
    },
    {
      "cell_type": "code",
      "source": [
        "duplicate_rows = selected_df[selected_df.duplicated()]\n",
        "\n",
        "# Print the duplicate rows\n",
        "print(\"Duplicate rows:\")\n",
        "print(duplicate_rows)"
      ],
      "metadata": {
        "colab": {
          "base_uri": "https://localhost:8080/"
        },
        "id": "82o6A-Xf5ze6",
        "outputId": "bfb48aa0-affe-41f6-c528-845d7b62f3a0"
      },
      "execution_count": 90,
      "outputs": [
        {
          "output_type": "stream",
          "name": "stdout",
          "text": [
            "Duplicate rows:\n",
            "Empty DataFrame\n",
            "Columns: [Syndromecomponent1, Syndromecomponent2, Syndromecomponent3, Syndromecomponent4, Syndromecomponent5, Syndromecomponents, Waistcir, TGCHOL, Sex, BPS, BPD, Glocuse, LdL, Cholesterol, HDL, TRIGLYCERIDES, Dyslipidemia, Diabete, HSCRP, NIGHTLYS, age_1, B_Smoking, edulevel, Jobstatu, MemberCountH, Height, Weight, AnxietyScore, DepressionScore, Name, Family, FatherName, Age, Nationality, TelHome, TelWork, Mobile, Address1, NAMEH, FamilyH, SexH, TelH, JobStatusH, JobLastH, SalaryH, DegreeLastH, FamilCountH, LifePlaceH, UnitCountH, HaveCarH, Status_i, Degreela, joblast, Marriage, A_Smoked, smokingstutus, B1, B2, B3, B4, D_CIGNAME, C_SmokingTime, E_CigCount, E1_SmokedTime, F_CigLeaveReason, F1_CigLeaveTime, ABLETOWALK, VERYACT_W, ACTIVE_W, INACTIVE_W, VERYACT_Out, ACTIVE_Out, INACTIVE_Out, STUDYINB, DAILYNAP, HAVE_DYS, COUNT_DY, COUNT_1, HAVE_ACT_Ch, HOWLONG_, STAYINBE, STAYIN1, IA1, IA2, IA3, IA4, IB1, IB2, IB3, IB4, PREDISEASE, J1, J2, J3, J4, J5, J1D, J2D, J3D, J4D, ...]\n",
            "Index: []\n",
            "\n",
            "[0 rows x 279 columns]\n"
          ]
        }
      ]
    },
    {
      "cell_type": "markdown",
      "source": [
        "## Detect unknown values"
      ],
      "metadata": {
        "id": "50og6Sw1C0vD"
      }
    },
    {
      "cell_type": "code",
      "source": [
        "selected_df['RefertoDrResult'].unique()\n",
        "df1=selected_df"
      ],
      "metadata": {
        "id": "G9NbLw4WC8x-"
      },
      "execution_count": 101,
      "outputs": []
    },
    {
      "cell_type": "code",
      "source": [
        "pattern = re.compile(r'\\?+')\n",
        "columns_with_question_mark = df1.columns[df1.astype(str).apply(lambda x: x.str.contains(pattern, regex=True)).any()]\n",
        "\n",
        "print(\"Columns containing '?' or '??' and so on:\")\n",
        "print(columns_with_question_mark)"
      ],
      "metadata": {
        "colab": {
          "base_uri": "https://localhost:8080/"
        },
        "id": "B2Iblm5SFN5Q",
        "outputId": "fea4d04a-6f28-4847-ace1-d2ec1e7234cd"
      },
      "execution_count": 105,
      "outputs": [
        {
          "output_type": "stream",
          "name": "stdout",
          "text": [
            "Columns containing '?' or '??' and so on:\n",
            "Index(['Family', 'joblast', 'L6_OtherMethod', 'RefertoDrResult',\n",
            "       'HospitalName1'],\n",
            "      dtype='object')\n"
          ]
        }
      ]
    },
    {
      "cell_type": "code",
      "source": [
        "# Replace values matching the pattern with -1\n",
        "df1.replace(pattern, -1, regex=True, inplace=True)\n"
      ],
      "metadata": {
        "id": "CJac9Ns7HWfQ"
      },
      "execution_count": 111,
      "outputs": []
    },
    {
      "cell_type": "markdown",
      "source": [
        "## Add city code and phase number to dataset\n"
      ],
      "metadata": {
        "id": "GAJ3RgK1IGyK"
      }
    },
    {
      "cell_type": "code",
      "source": [
        "\n",
        "new_value = \"MHD\"\n",
        "df1['City_code'] = new_value\n",
        "selected_df=df1"
      ],
      "metadata": {
        "id": "ltJBHPXzJZP6"
      },
      "execution_count": 114,
      "outputs": []
    },
    {
      "cell_type": "code",
      "source": [
        "output_csv_file = \"selected_columns.csv\"\n",
        "selected_df.to_csv(output_csv_file, index=False)\n",
        "print(\"Selected columns saved to\", output_csv_file)\n",
        "print(selected_df.shape)"
      ],
      "metadata": {
        "colab": {
          "base_uri": "https://localhost:8080/"
        },
        "id": "RkECHmXULeLq",
        "outputId": "07990566-97c5-49b1-d37f-38b1f43b0b54"
      },
      "execution_count": 115,
      "outputs": [
        {
          "output_type": "stream",
          "name": "stdout",
          "text": [
            "Selected columns saved to selected_columns.csv\n",
            "(500, 280)\n"
          ]
        }
      ]
    }
  ]
}